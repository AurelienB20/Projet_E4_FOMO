{
 "cells": [
  {
   "cell_type": "code",
   "execution_count": 2,
   "metadata": {},
   "outputs": [
    {
     "name": "stderr",
     "output_type": "stream",
     "text": [
      "C:\\Users\\Franc\\AppData\\Local\\Packages\\PythonSoftwareFoundation.Python.3.9_qbz5n2kfra8p0\\LocalCache\\local-packages\\Python39\\site-packages\\requests\\__init__.py:102: RequestsDependencyWarning: urllib3 (1.26.18) or chardet (5.2.0)/charset_normalizer (2.0.12) doesn't match a supported version!\n",
      "  warnings.warn(\"urllib3 ({}) or chardet ({})/charset_normalizer ({}) doesn't match a supported \"\n",
      "C:\\Users\\Franc\\AppData\\Local\\Packages\\PythonSoftwareFoundation.Python.3.9_qbz5n2kfra8p0\\LocalCache\\local-packages\\Python39\\site-packages\\scipy\\__init__.py:146: UserWarning: A NumPy version >=1.17.3 and <1.25.0 is required for this version of SciPy (detected version 1.26.4\n",
      "  warnings.warn(f\"A NumPy version >={np_minversion} and <{np_maxversion}\"\n"
     ]
    },
    {
     "name": "stdout",
     "output_type": "stream",
     "text": [
      "WARNING:tensorflow:From C:\\Users\\Franc\\AppData\\Local\\Packages\\PythonSoftwareFoundation.Python.3.9_qbz5n2kfra8p0\\LocalCache\\local-packages\\Python39\\site-packages\\keras\\src\\losses.py:2976: The name tf.losses.sparse_softmax_cross_entropy is deprecated. Please use tf.compat.v1.losses.sparse_softmax_cross_entropy instead.\n",
      "\n"
     ]
    }
   ],
   "source": [
    "\n",
    "import numpy as np\n",
    "import os\n",
    "os.environ['TF_CPP_MIN_LOG_LEVEL'] = '3'\n",
    "os.environ['TF_ENABLE_ONEDNN_OPTS'] = '0'\n",
    "import tensorflow as tf\n",
    "from keras.layers import Conv2D\n"
   ]
  },
  {
   "cell_type": "code",
   "execution_count": 3,
   "metadata": {},
   "outputs": [
    {
     "name": "stdout",
     "output_type": "stream",
     "text": [
      "[[12 12 12]\n",
      " [12 12 12]\n",
      " [12 12 12]]\n"
     ]
    }
   ],
   "source": [
    "input_matrix = np.array([[1, 2, 3, 4, 5],\n",
    "                        [6, 7, 8, 9, 10],\n",
    "                        [11, 12, 13, 14, 15],\n",
    "                        [16, 17, 18, 19, 20],\n",
    "                        [21, 22, 23, 24, 25]])\n",
    "\n",
    "input_test1 = np.array([[1, 1, 1, 1, 1],\n",
    "                        [1, 1, 1, 1, 1],\n",
    "                        [1, 1, 1, 1, 1],\n",
    "                        [1, 1, 1, 1, 1],\n",
    "                        [1, 1, 1, 1, 1]])\n",
    "\n",
    "# Définir le filtre (2x2)\n",
    "filter_matrix = np.array([[2, 0],\n",
    "                         [1, 2]])\n",
    "\n",
    "filter_test1 = np.array([[0, 1, 2],\n",
    "                         [1, 0, 3],\n",
    "                         [2, 3, 0]])\n",
    "\n",
    "# Ajouter une dimension pour indiquer le nombre de canaux (1 dans ce cas car c'est une image en niveaux de gris)\n",
    "input_matrix = input_matrix.reshape((1, 5, 5, 1))\n",
    "filter_matrix = filter_matrix.reshape((2, 2, 1, 1))\n",
    "input_matrix_test1 = input_test1.reshape((1, 5, 5, 1))\n",
    "filter_matrix_test1 = filter_test1.reshape((3, 3, 1, 1))\n",
    "# Appliquer la convolution\n",
    "result = tf.nn.conv2d(input_matrix_test1, filter_matrix_test1, strides=[1, 1, 1, 1], padding='VALID')\n",
    "\n",
    "# Afficher le résultat\n",
    "print(result.numpy().reshape(3, 3))"
   ]
  },
  {
   "cell_type": "code",
   "execution_count": 4,
   "metadata": {},
   "outputs": [
    {
     "name": "stdout",
     "output_type": "stream",
     "text": [
      "WARNING:tensorflow:From C:\\Users\\Franc\\AppData\\Local\\Packages\\PythonSoftwareFoundation.Python.3.9_qbz5n2kfra8p0\\LocalCache\\local-packages\\Python39\\site-packages\\keras\\src\\backend.py:873: The name tf.get_default_graph is deprecated. Please use tf.compat.v1.get_default_graph instead.\n",
      "\n"
     ]
    }
   ],
   "source": [
    "import tensorflow as tf\n",
    "from keras.layers import Conv2D\n",
    "from keras.models import Sequential\n",
    "\n",
    "# Créer un modèle séquentiel\n",
    "model = Sequential()\n",
    "\n",
    "# Ajouter une couche Conv2D avec 32 filtres, une taille de noyau de (3,3), une activation ReLU et une entrée 64x64 avec 3 canaux (RGB)\n",
    "model.add(Conv2D(1, kernel_size=(2, 2), activation=None, input_shape=(5, 5, 1)))\n"
   ]
  },
  {
   "cell_type": "code",
   "execution_count": 5,
   "metadata": {},
   "outputs": [
    {
     "name": "stdout",
     "output_type": "stream",
     "text": [
      "(2, 2, 1, 1)\n",
      "(1, 5, 5, 1)\n"
     ]
    }
   ],
   "source": [
    "print(filter_matrix.shape)\n",
    "print(input_matrix.shape)"
   ]
  },
  {
   "cell_type": "code",
   "execution_count": 6,
   "metadata": {},
   "outputs": [
    {
     "name": "stdout",
     "output_type": "stream",
     "text": [
      "(2, 2, 1, 1)\n"
     ]
    }
   ],
   "source": [
    "filter1 = model.get_weights()[0].reshape(2,2,1,1)\n",
    "print(filter1.shape)"
   ]
  },
  {
   "cell_type": "code",
   "execution_count": 7,
   "metadata": {},
   "outputs": [
    {
     "name": "stdout",
     "output_type": "stream",
     "text": [
      "[[ 7.044731  8.199986  9.355242 10.510496]\n",
      " [12.821007 13.976261 15.131516 16.286772]\n",
      " [18.597282 19.752537 20.907791 22.063047]\n",
      " [24.373556 25.52881  26.684067 27.839321]]\n"
     ]
    }
   ],
   "source": [
    "print(model.predict(input_matrix, verbose=0).reshape(4,4))"
   ]
  },
  {
   "cell_type": "code",
   "execution_count": 8,
   "metadata": {},
   "outputs": [
    {
     "name": "stdout",
     "output_type": "stream",
     "text": [
      "[[ 7.04473132  8.19998634  9.35524136 10.51049638]\n",
      " [12.82100642 13.97626144 15.13151646 16.28677148]\n",
      " [18.59728152 19.75253654 20.90779155 22.06304657]\n",
      " [24.37355661 25.52881163 26.68406665 27.83932167]]\n"
     ]
    }
   ],
   "source": [
    "input_tensor = tf.constant(input_matrix, dtype=tf.float64)\n",
    "filter1 = tf.constant(filter1, dtype=tf.float64)\n",
    "result = tf.nn.conv2d(input_matrix, filter1, strides=[1, 1, 1, 1], padding='VALID')\n",
    "print(result.numpy().reshape(4,4))"
   ]
  },
  {
   "cell_type": "code",
   "execution_count": 13,
   "metadata": {},
   "outputs": [
    {
     "data": {
      "text/plain": [
       "('5,5', '[1,2,3,4,5,6,7,8,9,10,11,12,13,14,15,16,17,18,19,20,21,22,23,24,25]')"
      ]
     },
     "execution_count": 13,
     "metadata": {},
     "output_type": "execute_result"
    }
   ],
   "source": [
    "def array2string(array: np.array) -> list[str, str]:\n",
    "    dim = array.shape\n",
    "    string_arr = \"[\"\n",
    "    for i in range(dim[0]):\n",
    "        for j in range(dim[1]):\n",
    "            string_arr += str(array[i][j])\n",
    "            string_arr += ','\n",
    "    string_arr = string_arr[:-1] + ']'\n",
    "    \n",
    "    return str(dim[0])+\",\"+str(dim[1]) , string_arr\n",
    "\n",
    "def py2txt(file: str, string, name=\"\") -> None:\n",
    "    with open(file, \"a\") as f:\n",
    "        if type(string) == str:\n",
    "            f.write(string)\n",
    "        else:\n",
    "            for word in string:\n",
    "                f.write(word)\n",
    "                f.write(\"-\")\n",
    "        f.write(name)\n",
    "        f.write(\"-\\n\")\n",
    "input1 = np.array([ [1, 2, 3, 4, 5],\n",
    "                    [6, 7, 8, 9, 10],\n",
    "                    [11, 12, 13, 14, 15],\n",
    "                    [16, 17, 18, 19, 20],\n",
    "                    [21, 22, 23, 24, 25]])\n",
    "\n",
    "input2 = np.round( np.random.random((5,5))*10, 2)\n",
    "\n",
    "input3 = np.round( np.random.random((10,10))*10, 3)\n",
    "\n",
    "input4 = np.round( np.random.random((32,32))*10, 2)\n",
    "\n",
    "filter1 = np.array([[2, 0],\n",
    "                    [1, 2]])\n",
    "\n",
    "filter2 = np.array([[0, 1, 2],\n",
    "                    [1, 0, 3],\n",
    "                    [2, 3, 0]])\n",
    "\n",
    "filter3 = np.round( np.random.random((3,3)), 2)\n",
    "\n",
    "filter4 = np.round( np.random.random((5,5)), 2)\n",
    "\n",
    "array2string(input1)"
   ]
  },
  {
   "cell_type": "code",
   "execution_count": 14,
   "metadata": {},
   "outputs": [],
   "source": [
    "py2txt(\"test_convolution.txt\", array2string(input1),\"input1\")\n",
    "py2txt(\"test_convolution.txt\", array2string(input2),\"input2\")\n",
    "py2txt(\"test_convolution.txt\", array2string(input3),\"input3\")\n",
    "py2txt(\"test_convolution.txt\", array2string(input4),\"input4\")\n",
    "\n",
    "py2txt(\"test_convolution.txt\", array2string(filter1),\"filter1\")\n",
    "py2txt(\"test_convolution.txt\", array2string(filter2),\"filter2\")\n",
    "py2txt(\"test_convolution.txt\", array2string(filter3),\"filter3\")\n",
    "py2txt(\"test_convolution.txt\", array2string(filter4),\"filter4\")\n"
   ]
  },
  {
   "cell_type": "code",
   "execution_count": 15,
   "metadata": {},
   "outputs": [
    {
     "data": {
      "text/plain": [
       "5120"
      ]
     },
     "execution_count": 15,
     "metadata": {},
     "output_type": "execute_result"
    }
   ],
   "source": [
    "32*32*5\n"
   ]
  },
  {
   "cell_type": "code",
   "execution_count": null,
   "metadata": {},
   "outputs": [],
   "source": []
  }
 ],
 "metadata": {
  "kernelspec": {
   "display_name": "Python 3",
   "language": "python",
   "name": "python3"
  },
  "language_info": {
   "codemirror_mode": {
    "name": "ipython",
    "version": 3
   },
   "file_extension": ".py",
   "mimetype": "text/x-python",
   "name": "python",
   "nbconvert_exporter": "python",
   "pygments_lexer": "ipython3",
   "version": "3.9.13"
  }
 },
 "nbformat": 4,
 "nbformat_minor": 2
}
