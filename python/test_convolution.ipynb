{
 "cells": [
  {
   "cell_type": "code",
   "execution_count": 1,
   "metadata": {},
   "outputs": [
    {
     "name": "stderr",
     "output_type": "stream",
     "text": [
      "C:\\Users\\Franc\\AppData\\Local\\Packages\\PythonSoftwareFoundation.Python.3.9_qbz5n2kfra8p0\\LocalCache\\local-packages\\Python39\\site-packages\\scipy\\__init__.py:146: UserWarning: A NumPy version >=1.17.3 and <1.25.0 is required for this version of SciPy (detected version 1.26.4\n",
      "  warnings.warn(f\"A NumPy version >={np_minversion} and <{np_maxversion}\"\n"
     ]
    },
    {
     "name": "stdout",
     "output_type": "stream",
     "text": [
      "WARNING:tensorflow:From C:\\Users\\Franc\\AppData\\Local\\Packages\\PythonSoftwareFoundation.Python.3.9_qbz5n2kfra8p0\\LocalCache\\local-packages\\Python39\\site-packages\\keras\\src\\losses.py:2976: The name tf.losses.sparse_softmax_cross_entropy is deprecated. Please use tf.compat.v1.losses.sparse_softmax_cross_entropy instead.\n",
      "\n"
     ]
    }
   ],
   "source": [
    "\n",
    "import numpy as np\n",
    "import os\n",
    "os.environ['TF_CPP_MIN_LOG_LEVEL'] = '3'\n",
    "os.environ['TF_ENABLE_ONEDNN_OPTS'] = '0'\n",
    "import tensorflow as tf\n",
    "from keras.layers import Conv2D\n",
    "from rich import print\n"
   ]
  },
  {
   "cell_type": "code",
   "execution_count": 7,
   "metadata": {},
   "outputs": [
    {
     "data": {
      "text/html": [
       "<pre style=\"white-space:pre;overflow-x:auto;line-height:normal;font-family:Menlo,'DejaVu Sans Mono',consolas,'Courier New',monospace\"><span style=\"font-weight: bold\">[[</span> <span style=\"color: #008080; text-decoration-color: #008080; font-weight: bold\">1</span>  <span style=\"color: #008080; text-decoration-color: #008080; font-weight: bold\">2</span>  <span style=\"color: #008080; text-decoration-color: #008080; font-weight: bold\">3</span>  <span style=\"color: #008080; text-decoration-color: #008080; font-weight: bold\">4</span>  <span style=\"color: #008080; text-decoration-color: #008080; font-weight: bold\">5</span><span style=\"font-weight: bold\">]</span>\n",
       " <span style=\"font-weight: bold\">[</span> <span style=\"color: #008080; text-decoration-color: #008080; font-weight: bold\">6</span>  <span style=\"color: #008080; text-decoration-color: #008080; font-weight: bold\">7</span>  <span style=\"color: #008080; text-decoration-color: #008080; font-weight: bold\">8</span>  <span style=\"color: #008080; text-decoration-color: #008080; font-weight: bold\">9</span> <span style=\"color: #008080; text-decoration-color: #008080; font-weight: bold\">10</span><span style=\"font-weight: bold\">]</span>\n",
       " <span style=\"font-weight: bold\">[</span><span style=\"color: #008080; text-decoration-color: #008080; font-weight: bold\">11</span> <span style=\"color: #008080; text-decoration-color: #008080; font-weight: bold\">12</span> <span style=\"color: #008080; text-decoration-color: #008080; font-weight: bold\">13</span> <span style=\"color: #008080; text-decoration-color: #008080; font-weight: bold\">14</span> <span style=\"color: #008080; text-decoration-color: #008080; font-weight: bold\">15</span><span style=\"font-weight: bold\">]</span>\n",
       " <span style=\"font-weight: bold\">[</span><span style=\"color: #008080; text-decoration-color: #008080; font-weight: bold\">16</span> <span style=\"color: #008080; text-decoration-color: #008080; font-weight: bold\">17</span> <span style=\"color: #008080; text-decoration-color: #008080; font-weight: bold\">18</span> <span style=\"color: #008080; text-decoration-color: #008080; font-weight: bold\">19</span> <span style=\"color: #008080; text-decoration-color: #008080; font-weight: bold\">20</span><span style=\"font-weight: bold\">]</span>\n",
       " <span style=\"font-weight: bold\">[</span><span style=\"color: #008080; text-decoration-color: #008080; font-weight: bold\">21</span> <span style=\"color: #008080; text-decoration-color: #008080; font-weight: bold\">22</span> <span style=\"color: #008080; text-decoration-color: #008080; font-weight: bold\">23</span> <span style=\"color: #008080; text-decoration-color: #008080; font-weight: bold\">24</span> <span style=\"color: #008080; text-decoration-color: #008080; font-weight: bold\">25</span><span style=\"font-weight: bold\">]]</span>\n",
       "</pre>\n"
      ],
      "text/plain": [
       "\u001b[1m[\u001b[0m\u001b[1m[\u001b[0m \u001b[1;36m1\u001b[0m  \u001b[1;36m2\u001b[0m  \u001b[1;36m3\u001b[0m  \u001b[1;36m4\u001b[0m  \u001b[1;36m5\u001b[0m\u001b[1m]\u001b[0m\n",
       " \u001b[1m[\u001b[0m \u001b[1;36m6\u001b[0m  \u001b[1;36m7\u001b[0m  \u001b[1;36m8\u001b[0m  \u001b[1;36m9\u001b[0m \u001b[1;36m10\u001b[0m\u001b[1m]\u001b[0m\n",
       " \u001b[1m[\u001b[0m\u001b[1;36m11\u001b[0m \u001b[1;36m12\u001b[0m \u001b[1;36m13\u001b[0m \u001b[1;36m14\u001b[0m \u001b[1;36m15\u001b[0m\u001b[1m]\u001b[0m\n",
       " \u001b[1m[\u001b[0m\u001b[1;36m16\u001b[0m \u001b[1;36m17\u001b[0m \u001b[1;36m18\u001b[0m \u001b[1;36m19\u001b[0m \u001b[1;36m20\u001b[0m\u001b[1m]\u001b[0m\n",
       " \u001b[1m[\u001b[0m\u001b[1;36m21\u001b[0m \u001b[1;36m22\u001b[0m \u001b[1;36m23\u001b[0m \u001b[1;36m24\u001b[0m \u001b[1;36m25\u001b[0m\u001b[1m]\u001b[0m\u001b[1m]\u001b[0m\n"
      ]
     },
     "metadata": {},
     "output_type": "display_data"
    },
    {
     "data": {
      "text/html": [
       "<pre style=\"white-space:pre;overflow-x:auto;line-height:normal;font-family:Menlo,'DejaVu Sans Mono',consolas,'Courier New',monospace\"><span style=\"font-weight: bold\">[[</span><span style=\"color: #008080; text-decoration-color: #008080; font-weight: bold\">0</span> <span style=\"color: #008080; text-decoration-color: #008080; font-weight: bold\">1</span> <span style=\"color: #008080; text-decoration-color: #008080; font-weight: bold\">2</span><span style=\"font-weight: bold\">]</span>\n",
       " <span style=\"font-weight: bold\">[</span><span style=\"color: #008080; text-decoration-color: #008080; font-weight: bold\">3</span> <span style=\"color: #008080; text-decoration-color: #008080; font-weight: bold\">4</span> <span style=\"color: #008080; text-decoration-color: #008080; font-weight: bold\">5</span><span style=\"font-weight: bold\">]</span>\n",
       " <span style=\"font-weight: bold\">[</span><span style=\"color: #008080; text-decoration-color: #008080; font-weight: bold\">6</span> <span style=\"color: #008080; text-decoration-color: #008080; font-weight: bold\">7</span> <span style=\"color: #008080; text-decoration-color: #008080; font-weight: bold\">8</span><span style=\"font-weight: bold\">]]</span>\n",
       "</pre>\n"
      ],
      "text/plain": [
       "\u001b[1m[\u001b[0m\u001b[1m[\u001b[0m\u001b[1;36m0\u001b[0m \u001b[1;36m1\u001b[0m \u001b[1;36m2\u001b[0m\u001b[1m]\u001b[0m\n",
       " \u001b[1m[\u001b[0m\u001b[1;36m3\u001b[0m \u001b[1;36m4\u001b[0m \u001b[1;36m5\u001b[0m\u001b[1m]\u001b[0m\n",
       " \u001b[1m[\u001b[0m\u001b[1;36m6\u001b[0m \u001b[1;36m7\u001b[0m \u001b[1;36m8\u001b[0m\u001b[1m]\u001b[0m\u001b[1m]\u001b[0m\n"
      ]
     },
     "metadata": {},
     "output_type": "display_data"
    },
    {
     "data": {
      "text/html": [
       "<pre style=\"white-space:pre;overflow-x:auto;line-height:normal;font-family:Menlo,'DejaVu Sans Mono',consolas,'Courier New',monospace\"><span style=\"font-weight: bold\">[[</span><span style=\"color: #008080; text-decoration-color: #008080; font-weight: bold\">348</span> <span style=\"color: #008080; text-decoration-color: #008080; font-weight: bold\">384</span> <span style=\"color: #008080; text-decoration-color: #008080; font-weight: bold\">420</span><span style=\"font-weight: bold\">]</span>\n",
       " <span style=\"font-weight: bold\">[</span><span style=\"color: #008080; text-decoration-color: #008080; font-weight: bold\">528</span> <span style=\"color: #008080; text-decoration-color: #008080; font-weight: bold\">564</span> <span style=\"color: #008080; text-decoration-color: #008080; font-weight: bold\">600</span><span style=\"font-weight: bold\">]</span>\n",
       " <span style=\"font-weight: bold\">[</span><span style=\"color: #008080; text-decoration-color: #008080; font-weight: bold\">708</span> <span style=\"color: #008080; text-decoration-color: #008080; font-weight: bold\">744</span> <span style=\"color: #008080; text-decoration-color: #008080; font-weight: bold\">780</span><span style=\"font-weight: bold\">]]</span>\n",
       "</pre>\n"
      ],
      "text/plain": [
       "\u001b[1m[\u001b[0m\u001b[1m[\u001b[0m\u001b[1;36m348\u001b[0m \u001b[1;36m384\u001b[0m \u001b[1;36m420\u001b[0m\u001b[1m]\u001b[0m\n",
       " \u001b[1m[\u001b[0m\u001b[1;36m528\u001b[0m \u001b[1;36m564\u001b[0m \u001b[1;36m600\u001b[0m\u001b[1m]\u001b[0m\n",
       " \u001b[1m[\u001b[0m\u001b[1;36m708\u001b[0m \u001b[1;36m744\u001b[0m \u001b[1;36m780\u001b[0m\u001b[1m]\u001b[0m\u001b[1m]\u001b[0m\n"
      ]
     },
     "metadata": {},
     "output_type": "display_data"
    }
   ],
   "source": [
    "input_matrix = np.array([[1, 2, 3, 4, 5],\n",
    "                        [6, 7, 8, 9, 10],\n",
    "                        [11, 12, 13, 14, 15],\n",
    "                        [16, 17, 18, 19, 20],\n",
    "                        [21, 22, 23, 24, 25]])\n",
    "\n",
    "input_test1 = np.array([[1, 1, 1, 1, 1],\n",
    "                        [1, 1, 1, 1, 1],\n",
    "                        [1, 1, 1, 1, 1],\n",
    "                        [1, 1, 1, 1, 1],\n",
    "                        [1, 1, 1, 1, 1]])\n",
    "\n",
    "input_test2 = np.array([[1, 2, 3, 4, 5],\n",
    "                        [2, 3, 4, 5, 6],\n",
    "                        [3, 4, 5, 6, 7],\n",
    "                        [4, 5, 6, 7, 8],\n",
    "                        [5, 6, 7, 8, 9]])\n",
    "\n",
    "# Définir le filtre (2x2)\n",
    "filter_matrix = np.array([[2, 0],\n",
    "                         [1, 2]])\n",
    "\n",
    "filter_test1 = np.array([[0, 1, 2],\n",
    "                         [1, 0, 3],\n",
    "                         [2, 3, 0]])\n",
    "\n",
    "filter_test2 = np.array([[0, 1, 2],\n",
    "                         [1, 2, 3],\n",
    "                         [2, 3, 4]])\n",
    "\n",
    "filter_test3 = np.array([[0, 1, 2],\n",
    "                        [3, 4, 5],\n",
    "                        [6, 7, 8]])\n",
    "# Ajouter une dimension pour indiquer le nombre de canaux (1 dans ce cas car c'est une image en niveaux de gris)\n",
    "input_matrix = input_matrix.reshape((1, 5, 5, 1))\n",
    "filter_matrix = filter_matrix.reshape((2, 2, 1, 1))\n",
    "input_matrix_test1 = input_test1.reshape((1, 5, 5, 1))\n",
    "filter_matrix_test1 = filter_test1.reshape((3, 3, 1, 1))\n",
    "input_matrix_test2 = input_test2.reshape((1, 5, 5, 1))\n",
    "filter_matrix_test2 = filter_test2.reshape((3, 3, 1, 1))\n",
    "filter_matrix_test3 = filter_test3.reshape((3, 3, 1, 1))\n",
    "# Appliquer la convolution\n",
    "result = tf.nn.conv2d(input_matrix, filter_matrix_test3, strides=[1, 1, 1, 1], padding='VALID')\n",
    "\n",
    "# Afficher le résultat\n",
    "print(input_matrix.reshape(5, 5))\n",
    "print(filter_matrix_test3.reshape(3, 3))\n",
    "print(result.numpy().reshape(3, 3))"
   ]
  },
  {
   "cell_type": "code",
   "execution_count": 4,
   "metadata": {},
   "outputs": [
    {
     "name": "stdout",
     "output_type": "stream",
     "text": [
      "WARNING:tensorflow:From C:\\Users\\Franc\\AppData\\Local\\Packages\\PythonSoftwareFoundation.Python.3.9_qbz5n2kfra8p0\\LocalCache\\local-packages\\Python39\\site-packages\\keras\\src\\backend.py:873: The name tf.get_default_graph is deprecated. Please use tf.compat.v1.get_default_graph instead.\n",
      "\n"
     ]
    }
   ],
   "source": [
    "import tensorflow as tf\n",
    "from keras.layers import Conv2D\n",
    "from keras.models import Sequential\n",
    "\n",
    "# Créer un modèle séquentiel\n",
    "model = Sequential()\n",
    "\n",
    "# Ajouter une couche Conv2D avec 32 filtres, une taille de noyau de (3,3), une activation ReLU et une entrée 64x64 avec 3 canaux (RGB)\n",
    "model.add(Conv2D(1, kernel_size=(2, 2), activation=None, input_shape=(5, 5, 1)))\n"
   ]
  },
  {
   "cell_type": "code",
   "execution_count": 6,
   "metadata": {},
   "outputs": [
    {
     "data": {
      "text/plain": [
       "('5,5', '[1,2,3,4,5,6,7,8,9,10,11,12,13,14,15,16,17,18,19,20,21,22,23,24,25]')"
      ]
     },
     "execution_count": 6,
     "metadata": {},
     "output_type": "execute_result"
    }
   ],
   "source": [
    "def array2string(array: np.array) -> list[str, str]:\n",
    "    dim = array.shape\n",
    "    string_arr = \"[\"\n",
    "    for i in range(dim[0]):\n",
    "        for j in range(dim[1]):\n",
    "            string_arr += str(array[i][j])\n",
    "            string_arr += ','\n",
    "    string_arr = string_arr[:-1] + ']'\n",
    "    \n",
    "    return str(dim[0])+\",\"+str(dim[1]) , string_arr\n",
    "\n",
    "def py2txt(file: str, string, name=\"\") -> None:\n",
    "    with open(file, \"a\") as f:\n",
    "        if type(string) == str:\n",
    "            f.write(string)\n",
    "        else:\n",
    "            for word in string:\n",
    "                f.write(word)\n",
    "                f.write(\"-\")\n",
    "        f.write(name)\n",
    "        f.write(\"-\\n\")\n",
    "input1 = np.array([ [1, 2, 3, 4, 5],\n",
    "                    [6, 7, 8, 9, 10],\n",
    "                    [11, 12, 13, 14, 15],\n",
    "                    [16, 17, 18, 19, 20],\n",
    "                    [21, 22, 23, 24, 25]])\n",
    "\n",
    "# input2 = np.round( np.random.random((5,5))*10, 2)\n",
    "\n",
    "# input3 = np.round( np.random.random((10,10))*10, 3)\n",
    "\n",
    "# input4 = np.round( np.random.random((32,32))*10, 2)\n",
    "\n",
    "filter1 = np.array([[2, 0],\n",
    "                    [1, 2]])\n",
    "\n",
    "filter2 = np.array([[0, 1, 2],\n",
    "                    [1, 0, 3],\n",
    "                    [2, 3, 0]])\n",
    "\n",
    "filter3 = np.array([[0, 1, 2],\n",
    "                    [3, 4, 5],\n",
    "                    [6, 7, 8]])\n",
    "\n",
    "# filter3 = np.round( np.random.random((3,3)), 2)\n",
    "\n",
    "# filter4 = np.round( np.random.random((5,5)), 2)\n",
    "\n",
    "array2string(input1)"
   ]
  },
  {
   "cell_type": "code",
   "execution_count": 14,
   "metadata": {},
   "outputs": [],
   "source": [
    "py2txt(\"test_convolution.txt\", array2string(input1),\"input1\")\n",
    "py2txt(\"test_convolution.txt\", array2string(input2),\"input2\")\n",
    "py2txt(\"test_convolution.txt\", array2string(input3),\"input3\")\n",
    "py2txt(\"test_convolution.txt\", array2string(input4),\"input4\")\n",
    "\n",
    "py2txt(\"test_convolution.txt\", array2string(filter1),\"filter1\")\n",
    "py2txt(\"test_convolution.txt\", array2string(filter2),\"filter2\")\n",
    "py2txt(\"test_convolution.txt\", array2string(filter3),\"filter3\")\n",
    "py2txt(\"test_convolution.txt\", array2string(filter4),\"filter4\")\n"
   ]
  },
  {
   "cell_type": "code",
   "execution_count": 15,
   "metadata": {},
   "outputs": [
    {
     "data": {
      "text/plain": [
       "5120"
      ]
     },
     "execution_count": 15,
     "metadata": {},
     "output_type": "execute_result"
    }
   ],
   "source": [
    "32*32*5\n"
   ]
  },
  {
   "cell_type": "code",
   "execution_count": null,
   "metadata": {},
   "outputs": [],
   "source": []
  }
 ],
 "metadata": {
  "kernelspec": {
   "display_name": "Python 3",
   "language": "python",
   "name": "python3"
  },
  "language_info": {
   "codemirror_mode": {
    "name": "ipython",
    "version": 3
   },
   "file_extension": ".py",
   "mimetype": "text/x-python",
   "name": "python",
   "nbconvert_exporter": "python",
   "pygments_lexer": "ipython3",
   "version": "3.9.13"
  }
 },
 "nbformat": 4,
 "nbformat_minor": 2
}
