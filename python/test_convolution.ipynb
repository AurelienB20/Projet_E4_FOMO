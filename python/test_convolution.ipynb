{
 "cells": [
  {
   "cell_type": "code",
   "execution_count": 1,
   "metadata": {},
   "outputs": [
    {
     "name": "stderr",
     "output_type": "stream",
     "text": [
      "C:\\Users\\Franc\\AppData\\Local\\Packages\\PythonSoftwareFoundation.Python.3.9_qbz5n2kfra8p0\\LocalCache\\local-packages\\Python39\\site-packages\\requests\\__init__.py:102: RequestsDependencyWarning: urllib3 (1.26.18) or chardet (5.2.0)/charset_normalizer (2.0.12) doesn't match a supported version!\n",
      "  warnings.warn(\"urllib3 ({}) or chardet ({})/charset_normalizer ({}) doesn't match a supported \"\n",
      "C:\\Users\\Franc\\AppData\\Local\\Packages\\PythonSoftwareFoundation.Python.3.9_qbz5n2kfra8p0\\LocalCache\\local-packages\\Python39\\site-packages\\scipy\\__init__.py:146: UserWarning: A NumPy version >=1.17.3 and <1.25.0 is required for this version of SciPy (detected version 1.26.4\n",
      "  warnings.warn(f\"A NumPy version >={np_minversion} and <{np_maxversion}\"\n"
     ]
    },
    {
     "name": "stdout",
     "output_type": "stream",
     "text": [
      "WARNING:tensorflow:From C:\\Users\\Franc\\AppData\\Local\\Packages\\PythonSoftwareFoundation.Python.3.9_qbz5n2kfra8p0\\LocalCache\\local-packages\\Python39\\site-packages\\keras\\src\\losses.py:2976: The name tf.losses.sparse_softmax_cross_entropy is deprecated. Please use tf.compat.v1.losses.sparse_softmax_cross_entropy instead.\n",
      "\n"
     ]
    }
   ],
   "source": [
    "\n",
    "import numpy as np\n",
    "import os\n",
    "os.environ['TF_CPP_MIN_LOG_LEVEL'] = '3'\n",
    "os.environ['TF_ENABLE_ONEDNN_OPTS'] = '0'\n",
    "import tensorflow as tf\n",
    "from keras.layers import Conv2D\n"
   ]
  },
  {
   "cell_type": "code",
   "execution_count": 5,
   "metadata": {},
   "outputs": [
    {
     "name": "stdout",
     "output_type": "stream",
     "text": [
      "[[12 12 12]\n",
      " [12 12 12]\n",
      " [12 12 12]]\n"
     ]
    }
   ],
   "source": [
    "input_matrix = np.array([[1, 2, 3, 4, 5],\n",
    "                        [6, 7, 8, 9, 10],\n",
    "                        [11, 12, 13, 14, 15],\n",
    "                        [16, 17, 18, 19, 20],\n",
    "                        [21, 22, 23, 24, 25]])\n",
    "\n",
    "input_test1 = np.array([[1, 1, 1, 1, 1],\n",
    "                        [1, 1, 1, 1, 1],\n",
    "                        [1, 1, 1, 1, 1],\n",
    "                        [1, 1, 1, 1, 1],\n",
    "                        [1, 1, 1, 1, 1]])\n",
    "\n",
    "# Définir le filtre (2x2)\n",
    "filter_matrix = np.array([[2, 0],\n",
    "                         [1, 2]])\n",
    "\n",
    "filter_test1 = np.array([[0, 1, 2],\n",
    "                         [1, 0, 3],\n",
    "                         [2, 3, 0]])\n",
    "\n",
    "# Ajouter une dimension pour indiquer le nombre de canaux (1 dans ce cas car c'est une image en niveaux de gris)\n",
    "input_matrix = input_matrix.reshape((1, 5, 5, 1))\n",
    "filter_matrix = filter_matrix.reshape((2, 2, 1, 1))\n",
    "input_matrix_test1 = input_test1.reshape((1, 5, 5, 1))\n",
    "filter_matrix_test1 = filter_test1.reshape((3, 3, 1, 1))\n",
    "# Appliquer la convolution\n",
    "result = tf.nn.conv2d(input_matrix_test1, filter_matrix_test1, strides=[1, 1, 1, 1], padding='VALID')\n",
    "\n",
    "# Afficher le résultat\n",
    "print(result.numpy().reshape(3, 3))"
   ]
  },
  {
   "cell_type": "code",
   "execution_count": null,
   "metadata": {},
   "outputs": [],
   "source": [
    "import tensorflow as tf\n",
    "from keras.layers import Conv2D\n",
    "from keras.models import Sequential\n",
    "\n",
    "# Créer un modèle séquentiel\n",
    "model = Sequential()\n",
    "\n",
    "# Ajouter une couche Conv2D avec 32 filtres, une taille de noyau de (3,3), une activation ReLU et une entrée 64x64 avec 3 canaux (RGB)\n",
    "model.add(Conv2D(1, kernel_size=(2, 2), activation=None, input_shape=(5, 5, 1)))\n"
   ]
  },
  {
   "cell_type": "code",
   "execution_count": null,
   "metadata": {},
   "outputs": [
    {
     "name": "stdout",
     "output_type": "stream",
     "text": [
      "(2, 2, 1, 1)\n",
      "(1, 5, 5, 1)\n"
     ]
    }
   ],
   "source": [
    "print(filter_matrix.shape)\n",
    "print(input_matrix.shape)"
   ]
  },
  {
   "cell_type": "code",
   "execution_count": null,
   "metadata": {},
   "outputs": [
    {
     "name": "stdout",
     "output_type": "stream",
     "text": [
      "(2, 2, 1, 1)\n"
     ]
    }
   ],
   "source": [
    "filter1 = model.get_weights()[0].reshape(2,2,1,1)\n",
    "print(filter1.shape)"
   ]
  },
  {
   "cell_type": "code",
   "execution_count": null,
   "metadata": {},
   "outputs": [
    {
     "name": "stdout",
     "output_type": "stream",
     "text": [
      "[[ 4.857754   5.443286   6.0288177  6.6143494]\n",
      " [ 7.785413   8.370944   8.956476   9.542008 ]\n",
      " [10.713072  11.298603  11.884136  12.4696665]\n",
      " [13.640731  14.226263  14.811794  15.3973255]]\n"
     ]
    }
   ],
   "source": [
    "print(model.predict(input_matrix, verbose=0).reshape(4,4))"
   ]
  },
  {
   "cell_type": "code",
   "execution_count": null,
   "metadata": {},
   "outputs": [
    {
     "name": "stdout",
     "output_type": "stream",
     "text": [
      "[[ 4.85775417  5.44328594  6.02881771  6.61434948]\n",
      " [ 7.78541303  8.3709448   8.95647657  9.54200834]\n",
      " [10.71307188 11.29860365 11.88413543 12.4696672 ]\n",
      " [13.64073074 14.22626251 14.81179428 15.39732605]]\n"
     ]
    }
   ],
   "source": [
    "input_tensor = tf.constant(input_matrix, dtype=tf.float64)\n",
    "filter1 = tf.constant(filter1, dtype=tf.float64)\n",
    "result = tf.nn.conv2d(input_matrix, filter1, strides=[1, 1, 1, 1], padding='VALID')\n",
    "print(result.numpy().reshape(4,4))"
   ]
  },
  {
   "cell_type": "code",
   "execution_count": null,
   "metadata": {},
   "outputs": [],
   "source": []
  }
 ],
 "metadata": {
  "kernelspec": {
   "display_name": "Python 3",
   "language": "python",
   "name": "python3"
  },
  "language_info": {
   "codemirror_mode": {
    "name": "ipython",
    "version": 3
   },
   "file_extension": ".py",
   "mimetype": "text/x-python",
   "name": "python",
   "nbconvert_exporter": "python",
   "pygments_lexer": "ipython3",
   "version": "3.9.13"
  }
 },
 "nbformat": 4,
 "nbformat_minor": 2
}
