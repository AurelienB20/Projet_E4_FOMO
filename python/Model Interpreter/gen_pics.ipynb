{
 "cells": [
  {
   "cell_type": "code",
   "execution_count": 1,
   "id": "49740272-5545-4b16-a646-c72ce1e9fd01",
   "metadata": {},
   "outputs": [],
   "source": [
    "# Liens ressources complémentaires\n",
    "# https://docs.edgeimpulse.com/docs/edge-impulse-studio/learning-blocks/object-detection/fomo-object-detection-for-constrained-devices\n",
    "# https://docs.edgeimpulse.com/docs/tutorials/end-to-end-tutorials/object-detection/detect-objects-using-fomo"
   ]
  },
  {
   "cell_type": "code",
   "execution_count": 2,
   "id": "8f80c24e-9ebb-4822-b7a0-81e085bceaa3",
   "metadata": {},
   "outputs": [
    {
     "name": "stdout",
     "output_type": "stream",
     "text": [
      "WARNING:tensorflow:From C:\\Users\\adria\\anaconda3\\lib\\site-packages\\keras\\src\\losses.py:2976: The name tf.losses.sparse_softmax_cross_entropy is deprecated. Please use tf.compat.v1.losses.sparse_softmax_cross_entropy instead.\n",
      "\n"
     ]
    }
   ],
   "source": [
    "import numpy as np\n",
    "import pandas as pd\n",
    "import tensorflow as tf\n",
    "import matplotlib.pyplot as plt\n",
    "import cv2\n",
    "import json"
   ]
  },
  {
   "cell_type": "code",
   "execution_count": 3,
   "id": "b249c770-33c7-4520-8d31-aa36c0727e52",
   "metadata": {},
   "outputs": [
    {
     "data": {
      "text/plain": [
       "(439, 9216)"
      ]
     },
     "execution_count": 3,
     "metadata": {},
     "output_type": "execute_result"
    }
   ],
   "source": [
    "# Composition du dataset :\n",
    "# Training data : 439 images\n",
    "# Testing data : 84 images\n",
    "# Chaque image est de résolution 96x96 en grayscale (9216 pixels)\n",
    "    \n",
    "X_train = np.load(\"ei-beer-vs.-cans-fomo-image-X.npy\")\n",
    "X_train.shape"
   ]
  },
  {
   "cell_type": "code",
   "execution_count": null,
   "id": "946aa88b-a862-486b-b6a8-d9357e6f38f4",
   "metadata": {},
   "outputs": [],
   "source": [
    "# Exploration des données de training\n",
    "# On caste l'image dans deux formats : un en grayscale pour l'usage de l'inférence IA, l'autre en RGB pour les affichages\n",
    "pic = np.array(tf.reshape(X_train[0], [96, 96]))\n",
    "rgbpic = cv2.cvtColor(pic, cv2.COLOR_GRAY2RGB)\n",
    "print(pic)\n",
    "print(pic.shape)\n",
    "print(\"\\n\")\n",
    "print(rgbpic)\n",
    "print(rgbpic.shape)\n",
    "plt.imshow(rgbpic, cmap='gray')"
   ]
  },
  {
   "cell_type": "code",
   "execution_count": null,
   "id": "342a66e4-541f-4b86-8c66-72d2a2b8b317",
   "metadata": {},
   "outputs": [],
   "source": [
    "# On redresse l'image grayscale pour qu'elle soit au format d'entrée du modèle FOMO (int8, valeur de 0 à 255)\n",
    "pic = np.int8(pic*255-128)\n",
    "print(pic)\n",
    "plt.imshow(pic, cmap='gray')"
   ]
  },
  {
   "cell_type": "code",
   "execution_count": null,
   "id": "a1c34e8c-047f-4c5f-a778-f9335bcd2807",
   "metadata": {},
   "outputs": [],
   "source": [
    "#Tracé des bbox d'entrainement pour la première image du dataset\n",
    "\n",
    "f = open(\"ei-beer-vs.-cans-fomo-image-y.json\", \"r\")\n",
    "y_train = json.load(f)\n",
    "f.close()\n",
    "\n",
    "bbx = y_train[\"samples\"][0][\"boundingBoxes\"]\n",
    "print(bbx)\n",
    "\n",
    "for i in range(len(bbx)):\n",
    "    if bbx[i]['label'] == 1:\n",
    "        bbxpic = cv2.rectangle(rgbpic, (bbx[i]['x'], bbx[i]['y']), (bbx[i]['x']+bbx[i]['w'], bbx[i]['y']+bbx[i]['h']), (250,0,0))\n",
    "    if bbx[i]['label'] == 2:\n",
    "        bbxpic = cv2.rectangle(rgbpic, (bbx[i]['x'], bbx[i]['y']), (bbx[i]['x']+bbx[i]['w'], bbx[i]['y']+bbx[i]['h']), (0,250,0))\n",
    "    \n",
    "plt.imshow(bbxpic, cmap='gray')"
   ]
  },
  {
   "cell_type": "code",
   "execution_count": null,
   "id": "77b81ca7-6fda-4224-ab1c-0dd08aed9f9c",
   "metadata": {
    "tags": []
   },
   "outputs": [],
   "source": [
    "# Ouverture du modèle au format TensorFlow Lite et inférence de la première image du dataset\n",
    "\n",
    "interpreter = tf.lite.Interpreter(model_path=\"ei-beer-vs.-cans-fomo-object-detection-tensorflow-lite-int8-quantized-model.lite\")\n",
    "interpreter.allocate_tensors()\n",
    "\n",
    "# Get input and output tensors.\n",
    "input_details = interpreter.get_input_details()\n",
    "output_details = interpreter.get_output_details()\n",
    "\n",
    "# Test model on random input data.\n",
    "input_shape = input_details[0]['shape']\n",
    "input_data = tf.reshape(pic, [1, 96, 96, 1]) # np.array(np.random.random_sample(input_shape), dtype=np.float32)\n",
    "\n",
    "interpreter.set_tensor(input_details[0]['index'], input_data)\n",
    "\n",
    "interpreter.invoke()\n",
    "\n",
    "# The function `get_tensor()` returns a copy of the tensor data.\n",
    "# Use `tensor()` in order to get a pointer to the tensor.\n",
    "output_data = interpreter.get_tensor(output_details[0]['index'])\n",
    "output_print = (output_data+128)\n",
    "print(output_data)\n",
    "print(output_data.shape)"
   ]
  },
  {
   "cell_type": "code",
   "execution_count": 8,
   "id": "e49113b9-7d27-4a3c-838b-6d336e22c88b",
   "metadata": {},
   "outputs": [
    {
     "data": {
      "text/plain": [
       "<matplotlib.image.AxesImage at 0x22131a83a60>"
      ]
     },
     "execution_count": 8,
     "metadata": {},
     "output_type": "execute_result"
    },
    {
     "data": {
      "image/png": "[encoded data removed]",
      "text/plain": [
       "<Figure size 640x480 with 1 Axes>"
      ]
     },
     "metadata": {},
     "output_type": "display_data"
    }
   ],
   "source": [
    "# Affichage des réponses du modèle FOMO : dans un bloc de 8x8 se trouve un objet de classe 1 ou 2 ou non\n",
    "\n",
    "img = np.zeros((96,96,3), np.uint8)\n",
    "\n",
    "for i in range(np.shape(output_print)[1]):\n",
    "    for j in range(np.shape(output_print)[2]):\n",
    "        img[8*i:8*(i+1)-1, 8*j:8*(j+1)-1, 0] += output_print[0][i][j][1]\n",
    "        img[8*i:8*(i+1)-1, 8*j:8*(j+1)-1, 1] += output_print[0][i][j][2]\n",
    "\n",
    "plt.imshow(img)"
   ]
  },
  {
   "cell_type": "code",
   "execution_count": 9,
   "id": "ff820f98-ea60-42d0-863a-6bd2e6182bee",
   "metadata": {},
   "outputs": [
    {
     "name": "stdout",
     "output_type": "stream",
     "text": [
      "(439, 432)\n"
     ]
    }
   ],
   "source": [
    "# Génération des sorties de FOMO pour toutes les images du dataset d'entraînement\n",
    "output_file = []\n",
    "\n",
    "for i in X_train:\n",
    "    pic = np.array(tf.reshape(i, [96, 96]))\n",
    "    pic = np.int8(pic*255-128)\n",
    "    input_data = tf.reshape(pic, [1, 96, 96, 1])\n",
    "    interpreter.set_tensor(input_details[0]['index'], input_data)\n",
    "    interpreter.invoke()\n",
    "    output_data = interpreter.get_tensor(output_details[0]['index'])\n",
    "    output_file.append(tf.reshape(output_data, [432]))\n",
    "\n",
    "output_file = np.array(output_file)\n",
    "print(output_file.shape)\n",
    "np.save(\"fomo-output-X.npy\", output_file)"
   ]
  },
  {
   "cell_type": "code",
   "execution_count": null,
   "id": "e2a46bb7-cb52-488d-b2d2-0fcfc4e0efcd",
   "metadata": {},
   "outputs": [],
   "source": []
  },
  {
   "cell_type": "code",
   "execution_count": null,
   "id": "a0f8b38d-9125-4697-897e-3f78b336d101",
   "metadata": {},
   "outputs": [],
   "source": []
  }
 ],
 "metadata": {
  "kernelspec": {
   "display_name": "Python 3 (ipykernel)",
   "language": "python",
   "name": "python3"
  },
  "language_info": {
   "codemirror_mode": {
    "name": "ipython",
    "version": 3
   },
   "file_extension": ".py",
   "mimetype": "text/x-python",
   "name": "python",
   "nbconvert_exporter": "python",
   "pygments_lexer": "ipython3",
   "version": "3.9.18"
  }
 },
 "nbformat": 4,
 "nbformat_minor": 5
}
